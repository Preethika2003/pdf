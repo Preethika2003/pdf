{
  "nbformat": 4,
  "nbformat_minor": 0,
  "metadata": {
    "colab": {
      "provenance": [],
      "authorship_tag": "ABX9TyNH5aypAWfm+N3T6jDArAWG",
      "include_colab_link": true
    },
    "kernelspec": {
      "name": "python3",
      "display_name": "Python 3"
    },
    "language_info": {
      "name": "python"
    }
  },
  "cells": [
    {
      "cell_type": "markdown",
      "metadata": {
        "id": "view-in-github",
        "colab_type": "text"
      },
      "source": [
        "<a href=\"https://colab.research.google.com/github/Preethika2003/pdf/blob/main/doc_to_pdf.ipynb\" target=\"_parent\"><img src=\"https://colab.research.google.com/assets/colab-badge.svg\" alt=\"Open In Colab\"/></a>"
      ]
    },
    {
      "cell_type": "code",
      "execution_count": null,
      "metadata": {
        "id": "cifnA73_3FL-"
      },
      "outputs": [],
      "source": []
    },
    {
      "cell_type": "code",
      "source": [
        "!pip install fpdf python-docx pillow\n",
        "from fpdf import FPDF\n",
        "from PIL import Image\n",
        "import os\n",
        "from docx import Document\n",
        "from google.colab import files\n",
        "\n",
        "def convert_to_pdf(input_path):\n",
        "    ext = os.path.splitext(input_path)[1].lower()\n",
        "    pdf = FPDF()\n",
        "    output_path = input_path.rsplit(\".\", 1)[0] + \".pdf\"\n",
        "\n",
        "    if ext == \".txt\":\n",
        "        pdf.add_page()\n",
        "        pdf.set_font(\"Arial\", size=12)\n",
        "        with open(input_path, \"r\", encoding=\"utf-8\") as file:\n",
        "            pdf.multi_cell(190, 10, file.read())\n",
        "\n",
        "    elif ext in [\".jpg\", \".jpeg\", \".png\"]:\n",
        "        pdf.add_page()\n",
        "        pdf.image(input_path, x=10, y=10, w=pdf.w - 20)\n",
        "\n",
        "    elif ext == \".docx\":\n",
        "        pdf.add_page()\n",
        "        pdf.set_font(\"Arial\", size=12)\n",
        "        doc = Document(input_path)\n",
        "        for para in doc.paragraphs:\n",
        "            pdf.multi_cell(190, 10, para.text)\n",
        "\n",
        "    else:\n",
        "        print(\"Unsupported file format!\")\n",
        "        return\n",
        "\n",
        "    pdf.output(output_path)\n",
        "    print(f\"Converted to PDF: {output_path}\")\n",
        "    files.download(output_path)\n",
        "\n",
        "uploaded = files.upload()\n",
        "convert_to_pdf(list(uploaded.keys())[0])\n"
      ],
      "metadata": {
        "id": "iA-ZUuTQX0M5"
      },
      "execution_count": null,
      "outputs": []
    }
  ]
}